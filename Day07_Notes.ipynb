{
  "nbformat": 4,
  "nbformat_minor": 0,
  "metadata": {
    "colab": {
      "name": "Day07_Notes.ipynb",
      "provenance": [],
      "collapsed_sections": [],
      "include_colab_link": true
    },
    "kernelspec": {
      "name": "python3",
      "display_name": "Python 3"
    }
  },
  "cells": [
    {
      "cell_type": "markdown",
      "metadata": {
        "id": "view-in-github",
        "colab_type": "text"
      },
      "source": [
        "<a href=\"https://colab.research.google.com/github/urness/CS167Code/blob/main/Day07_Notes.ipynb\" target=\"_parent\"><img src=\"https://colab.research.google.com/assets/colab-badge.svg\" alt=\"Open In Colab\"/></a>"
      ]
    },
    {
      "cell_type": "markdown",
      "source": [
        "## Example code from CS 167 on February 15, 2022"
      ],
      "metadata": {
        "id": "OBeIpkdkchRS"
      }
    },
    {
      "cell_type": "markdown",
      "metadata": {
        "id": "frJwynUligs4"
      },
      "source": [
        "# Graphs! \n",
        "Let's take a look at how to plot data in a iPython Notebook:"
      ]
    },
    {
      "cell_type": "code",
      "metadata": {
        "id": "fn8urTfmie4B"
      },
      "source": [
        "import matplotlib.pyplot as plt\n",
        "\n",
        "#lets start by making up some data\n",
        "xvals = [1,2,3,4,5]\n",
        "series1 = [.66,.61,.69,.73,.77]\n",
        "series2 = [.8,.83,.77,.81,.79]\n",
        "series3 = [.55,.67,.5,.73,.66]\n",
        "\n",
        "#add names for the graph and axes\n",
        "plt.suptitle('my rockin plot',fontsize=18)\n",
        "plt.xlabel('a very cool x axis')\n",
        "plt.ylabel('rad y axis')\n",
        "\n",
        "#and plot our series\n",
        "plt.plot(xvals,series1,'ro-',label='1st series')\n",
        "plt.plot(xvals,series2,'bs-',label='2nd series')\n",
        "plt.plot(xvals,series3,'g^-',label='3rd series')\n",
        "\n",
        "# add a key and set the values for your axis (plt.axis[x_min, x_max, y_min, y_max])\n",
        "plt.legend(loc='lower right', shadow=True)\n",
        "plt.axis([0, 6, 0, 1]) ## 0 to 6 in x-dimension; 0 to 1 in y-dimension\n",
        "plt.show()"
      ],
      "execution_count": null,
      "outputs": []
    },
    {
      "cell_type": "code",
      "metadata": {
        "id": "TMZ9_Uxsitxo"
      },
      "source": [
        "#Now, let's plot something about our data.\n",
        "import pandas\n",
        "import numpy\n",
        "from google.colab import drive\n",
        "drive.mount('/content/drive')\n"
      ],
      "execution_count": null,
      "outputs": []
    },
    {
      "cell_type": "code",
      "source": [
        "\n",
        "#load in the data\n",
        "life_expectancy = pandas.read_csv('/content/drive/MyDrive/CS167Spring22/datasets/LifeExpectancyData.csv') #change this line to point to your data\n",
        "\n",
        "#work with a subset of the data\n",
        "developed_countries = life_expectancy[life_expectancy['Status'] == \"Developed\"]\n",
        "developed_countries.shape\n",
        "\n"
      ],
      "metadata": {
        "id": "9AV9M46FYhUJ"
      },
      "execution_count": null,
      "outputs": []
    },
    {
      "cell_type": "code",
      "source": [
        "import matplotlib.pyplot as plt\n",
        "%matplotlib inline\n",
        "\n",
        "# a silly function that returns the average life expectancy for the first k countries in the dataframe\n",
        "def getAverageLifeExpect(data,k):\n",
        "    return data[\"Life expectancy\"].iloc[0:k].mean()\n",
        "\n",
        "number_of_points = 500\n",
        "\n",
        "# populate the series list\n",
        "series = []\n",
        "for i in range(1,number_of_points):\n",
        "    val = getAverageLifeExpect(developed_countries,i)\n",
        "    series.append(val)\n",
        "\n",
        "# plot it!\n",
        "xvals = range(1,number_of_points)\n",
        "plt.suptitle('Average Life Expectancy',fontsize=18)\n",
        "plt.xlabel('data points used in average')\n",
        "plt.ylabel('average Life expectancy')\n",
        "plt.plot(xvals,series,'r,-',label='Life Exp.')\n",
        "plt.legend(loc='lower right', shadow=True)\n",
        "\n",
        "plt.axis([1, number_of_points, 70, 90])\n",
        "plt.show()"
      ],
      "metadata": {
        "id": "4hAlhxL_rceX"
      },
      "execution_count": null,
      "outputs": []
    },
    {
      "cell_type": "code",
      "metadata": {
        "id": "JgSV62hluYzx"
      },
      "source": [
        "# exercise:\n",
        "\n",
        "\n",
        "\n",
        "\n"
      ],
      "execution_count": null,
      "outputs": []
    },
    {
      "cell_type": "markdown",
      "metadata": {
        "id": "iASFhd-li8CJ"
      },
      "source": [
        "# Metrics and Testing\n",
        "Let's use the iris dataset and see how accurate our kNN model is."
      ]
    },
    {
      "cell_type": "code",
      "metadata": {
        "id": "D5MUhMRvhpip"
      },
      "source": [
        "data = pandas.read_csv('/content/drive/MyDrive/CS167Spring22/datasets/irisData.csv') #change this line to point to your data\n",
        "#shuffle the data - \"sampling\" the full set in random order\n",
        "shuffled_data = data.sample(frac=1, random_state=41)\n",
        "#use the first 20 rows in the shuffled set as testing data #train with the rest\n",
        "test_data = shuffled_data.iloc[0:20]\n",
        "train_data = shuffled_data.iloc[20:]"
      ],
      "execution_count": null,
      "outputs": []
    },
    {
      "cell_type": "code",
      "metadata": {
        "id": "LFWmCEvKhFyu"
      },
      "source": [
        "def classify_kNN(new_example,train_data,k):\n",
        "    #getting a copy of the training set just so we don't\n",
        "    #mess up the original\n",
        "    train_data_copy = train_data.copy()\n",
        "    train_data_copy['distance_to_new'] = numpy.sqrt(\n",
        "        (new_example['petal length']-train_data_copy['petal length'])**2\n",
        "        +(new_example['sepal length']-train_data_copy['sepal length'])**2\n",
        "        +(new_example['petal width']-train_data_copy['petal width'])**2\n",
        "        +(new_example['sepal width']-train_data_copy['sepal width'])**2)\n",
        "    \n",
        "    sorted_data = train_data_copy.sort_values(['distance_to_new'])\n",
        "    #mode to get most common thing in the first k examples in the sorted dataframe\n",
        "    #iloc to get the actual string, mode will return the string inside of a pandas Series\n",
        "    prediction = sorted_data.iloc[0:k]['species'].mode().iloc[0] \n",
        "    return prediction"
      ],
      "execution_count": null,
      "outputs": []
    },
    {
      "cell_type": "code",
      "metadata": {
        "id": "vmkVTsxPhW5f"
      },
      "source": [
        "def accuracy(actual,predicted):\n",
        "    #get the series comparing the two series\n",
        "    compared = actual == predicted\n",
        "    correct_predictions = compared[ compared == True ]\n",
        "    num_correct = len(correct_predictions)\n",
        "    frac_correct = num_correct/len(actual)\n",
        "    return frac_correct"
      ],
      "execution_count": null,
      "outputs": []
    },
    {
      "cell_type": "code",
      "metadata": {
        "id": "Vj5WQfWlha-K"
      },
      "source": [
        "def classify_all_kNN(test_data,train_data,k):\n",
        "    #apply the classify_kNN function to each item in the test data with the train\n",
        "    #data and k passed as the other two arguments. The result will be a series of \n",
        "    #the individual results.\n",
        "    return test_data.apply(classify_kNN,args=(train_data,k),axis=1)"
      ],
      "execution_count": null,
      "outputs": []
    },
    {
      "cell_type": "code",
      "metadata": {
        "id": "ml7mBuNYhfXn"
      },
      "source": [
        "predictions5NN = classify_all_kNN(test_data,train_data,5)\n",
        "print('ACTUAL\\t\\tPREDICTIONS')\n",
        "for i in range(20):\n",
        "    print(test_data['species'].iloc[i], \"  \", predictions5NN.iloc[i] )\n",
        "\n",
        "acc = accuracy(test_data['species'],predictions5NN)\n",
        "print(\"accuracy:\", acc)"
      ],
      "execution_count": null,
      "outputs": []
    },
    {
      "cell_type": "code",
      "metadata": {
        "id": "vF6mj584hiA4"
      },
      "source": [
        "import matplotlib.pyplot as plt\n",
        "%matplotlib inline\n",
        "\n",
        "#reload the data\n",
        "data = pandas.read_csv('/content/drive/MyDrive/CS167Spring22/datasets/irisData.csv')\n",
        "\n",
        "shuffled_data = data.sample(frac=1, random_state = 41)\n",
        "\n",
        "test_data = shuffled_data.iloc[0:20]\n",
        "train_data = shuffled_data.iloc[20:]\n",
        "\n",
        "\n",
        "k_vals = [1,3,5]\n",
        "kNN_accuracies = []\n",
        "\n",
        "for k in k_vals:\n",
        "    predictions = classify_all_kNN(test_data,train_data,k)\n",
        "    current_accuracy = accuracy(test_data['species'],predictions)\n",
        "    kNN_accuracies.append(current_accuracy)\n",
        "\n",
        "\n",
        "plt.suptitle('Iris Data k-NN Experiment',fontsize=18)\n",
        "plt.xlabel('k')\n",
        "plt.ylabel('accuracy')\n",
        "plt.plot(k_vals,kNN_accuracies,'ro-',label='k-NN')\n",
        "plt.legend(loc='lower left', shadow=True)\n",
        "plt.axis([0,10,0,1])\n",
        "\n",
        "plt.show()"
      ],
      "execution_count": null,
      "outputs": []
    },
    {
      "cell_type": "code",
      "metadata": {
        "id": "HZ_l0aIPh0tk"
      },
      "source": [
        "# exercise:\n",
        "# add more points: add multiple values of k to the graph \n",
        "# explain the phenomenon that you observe"
      ],
      "execution_count": null,
      "outputs": []
    }
  ]
}