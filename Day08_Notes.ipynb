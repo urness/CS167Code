{
  "nbformat": 4,
  "nbformat_minor": 0,
  "metadata": {
    "colab": {
      "name": "Day08_Notes.ipynb",
      "provenance": [],
      "collapsed_sections": [],
      "include_colab_link": true
    },
    "kernelspec": {
      "name": "python3",
      "display_name": "Python 3"
    }
  },
  "cells": [
    {
      "cell_type": "markdown",
      "metadata": {
        "id": "view-in-github",
        "colab_type": "text"
      },
      "source": [
        "<a href=\"https://colab.research.google.com/github/urness/CS167Code/blob/main/Day08_Notes.ipynb\" target=\"_parent\"><img src=\"https://colab.research.google.com/assets/colab-badge.svg\" alt=\"Open In Colab\"/></a>"
      ]
    },
    {
      "cell_type": "markdown",
      "metadata": {
        "id": "iASFhd-li8CJ"
      },
      "source": [
        "# Metrics and Testing\n",
        "Let's use the iris dataset and see how accurate our kNN model is."
      ]
    },
    {
      "cell_type": "code",
      "source": [
        "import pandas\n",
        "import numpy\n",
        "from google.colab import drive \n",
        "drive.mount('/content/drive')"
      ],
      "metadata": {
        "colab": {
          "base_uri": "https://localhost:8080/"
        },
        "id": "rib9ASjF7lDP",
        "outputId": "761b3d39-e761-483b-b11e-b73dc02a46e7"
      },
      "execution_count": null,
      "outputs": [
        {
          "output_type": "stream",
          "name": "stdout",
          "text": [
            "Mounted at /content/drive\n"
          ]
        }
      ]
    },
    {
      "cell_type": "code",
      "metadata": {
        "id": "D5MUhMRvhpip"
      },
      "source": [
        "data = pandas.read_csv('/content/drive/MyDrive/CS167Spring22/datasets/irisData.csv') #change this line to point to your data\n",
        "#shuffle the data - \"sampling\" the full set in random order\n",
        "shuffled_data = data.sample(frac=1, random_state=41)\n",
        "#use the first 20 rows in the shuffled set as testing data #train with the rest\n",
        "test_data = shuffled_data.iloc[0:20]\n",
        "train_data = shuffled_data.iloc[20:]"
      ],
      "execution_count": null,
      "outputs": []
    },
    {
      "cell_type": "code",
      "metadata": {
        "id": "LFWmCEvKhFyu"
      },
      "source": [
        "def classify_kNN(new_example,train_data,k):\n",
        "    #getting a copy of the training set just so we don't\n",
        "    #mess up the original\n",
        "    train_data_copy = train_data.copy()\n",
        "    train_data_copy['distance_to_new'] = numpy.sqrt(\n",
        "        (new_example['petal length']-train_data_copy['petal length'])**2\n",
        "        +(new_example['sepal length']-train_data_copy['sepal length'])**2\n",
        "        +(new_example['petal width']-train_data_copy['petal width'])**2\n",
        "        +(new_example['sepal width']-train_data_copy['sepal width'])**2)\n",
        "    \n",
        "    sorted_data = train_data_copy.sort_values(['distance_to_new'])\n",
        "    #mode to get most common thing in the first k examples in the sorted dataframe\n",
        "    #iloc to get the actual string, mode will return the string inside of a pandas Series\n",
        "    prediction = sorted_data.iloc[0:k]['species'].mode().iloc[0] \n",
        "    return prediction"
      ],
      "execution_count": null,
      "outputs": []
    },
    {
      "cell_type": "code",
      "metadata": {
        "id": "vmkVTsxPhW5f"
      },
      "source": [
        "def accuracy(actual,predicted):\n",
        "    #return the percentage of predicted/actual that match\n",
        "    num_correct = 0\n",
        "    for i in range(len(actual)):\n",
        "      if actual.iloc[i] == predicted.iloc[i]:\n",
        "        num_correct +=1\n",
        "    frac_correct = num_correct/len(actual)\n",
        "    return frac_correct"
      ],
      "execution_count": null,
      "outputs": []
    },
    {
      "cell_type": "markdown",
      "source": [
        "#### Exercise #1: fill in 2 lines of missing code:\n",
        "\n",
        "- The for loop below should call `classify_kNN` with each of: the test_data.iloc[i], the train_data, and k;\n",
        "- This result should be stored in a variable and added to the results list "
      ],
      "metadata": {
        "id": "74ys4kmE81k5"
      }
    },
    {
      "cell_type": "code",
      "metadata": {
        "id": "Vj5WQfWlha-K"
      },
      "source": [
        "def classify_all_kNN(test_data,train_data,k):\n",
        "    #apply the classify_kNN function to each item in the test data with the train\n",
        "    #data and k passed as the other two arguments. The result will be a series of \n",
        "    #the individual results.\n",
        "    results = []\n",
        "    for i in range(len(test_data)):\n",
        "      ##\n",
        "      ##\n",
        "    return pandas.Series(results)\n",
        "    "
      ],
      "execution_count": null,
      "outputs": []
    },
    {
      "cell_type": "code",
      "metadata": {
        "id": "ml7mBuNYhfXn"
      },
      "source": [
        "predictions5NN = classify_all_kNN(test_data,train_data,5)\n",
        "print('ACTUAL\\t\\tPREDICTIONS')\n",
        "for i in range(20):\n",
        "    print(test_data['species'].iloc[i], \"  \", predictions5NN.iloc[i] )\n",
        "\n",
        "acc = accuracy(test_data['species'],predictions5NN)\n",
        "print(\"accuracy:\", acc)"
      ],
      "execution_count": null,
      "outputs": []
    },
    {
      "cell_type": "code",
      "metadata": {
        "id": "vF6mj584hiA4"
      },
      "source": [
        "import matplotlib.pyplot as plt\n",
        "%matplotlib inline\n",
        "\n",
        "#reload the data\n",
        "data = pandas.read_csv('/content/drive/MyDrive/CS167Spring22/datasets/irisData.csv')\n",
        "\n",
        "shuffled_data = data.sample(frac=1, random_state = 41)\n",
        "\n",
        "test_data = shuffled_data.iloc[0:20]\n",
        "train_data = shuffled_data.iloc[20:]\n",
        "\n",
        "\n",
        "k_vals = [1,3,5]\n",
        "kNN_accuracies = []\n",
        "\n",
        "for k in k_vals:\n",
        "    predictions = classify_all_kNN(test_data,train_data,k)\n",
        "    current_accuracy = accuracy(test_data['species'],predictions)\n",
        "    kNN_accuracies.append(current_accuracy)\n",
        "\n",
        "\n",
        "plt.suptitle('Iris Data k-NN Experiment',fontsize=18)\n",
        "plt.xlabel('k')\n",
        "plt.ylabel('accuracy')\n",
        "plt.plot(k_vals,kNN_accuracies,'ro-',label='k-NN')\n",
        "plt.legend(loc='lower left', shadow=True)\n",
        "plt.axis([0,10,0,1])\n",
        "\n",
        "plt.show()"
      ],
      "execution_count": null,
      "outputs": []
    },
    {
      "cell_type": "code",
      "metadata": {
        "id": "HZ_l0aIPh0tk"
      },
      "source": [
        "# exercise #2:\n",
        "# add more points: add multiple values of k to the graph \n",
        "# explain the phenomenon that you observe"
      ],
      "execution_count": null,
      "outputs": []
    }
  ]
}