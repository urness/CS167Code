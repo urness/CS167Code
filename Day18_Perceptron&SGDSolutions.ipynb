{
  "nbformat": 4,
  "nbformat_minor": 0,
  "metadata": {
    "colab": {
      "name": "Day18_Perceptron&SGDSolutions.ipynb",
      "provenance": [],
      "collapsed_sections": [],
      "include_colab_link": true
    },
    "kernelspec": {
      "name": "python3",
      "display_name": "Python 3"
    },
    "language_info": {
      "name": "python"
    }
  },
  "cells": [
    {
      "cell_type": "markdown",
      "metadata": {
        "id": "view-in-github",
        "colab_type": "text"
      },
      "source": [
        "<a href=\"https://colab.research.google.com/github/urness/CS167Code/blob/main/Day18_Perceptron%26SGDSolutions.ipynb\" target=\"_parent\"><img src=\"https://colab.research.google.com/assets/colab-badge.svg\" alt=\"Open In Colab\"/></a>"
      ]
    },
    {
      "cell_type": "markdown",
      "metadata": {
        "id": "SvrFBuR5QclX"
      },
      "source": [
        "# Day 18 Notes (Spring 2022)\n",
        "\n",
        "Perceptron and SGD"
      ]
    },
    {
      "cell_type": "code",
      "metadata": {
        "colab": {
          "base_uri": "https://localhost:8080/"
        },
        "id": "fg9QkVM_8T22",
        "outputId": "9f664c8f-cc7c-4c4a-d468-a3e6923f9614"
      },
      "source": [
        "from google.colab import drive\n",
        "import pandas\n",
        "drive.mount('/content/drive')\n",
        "iris_data = pandas.read_csv('/content/drive/MyDrive/CS167Spring22/datasets/irisData.csv')"
      ],
      "execution_count": null,
      "outputs": [
        {
          "output_type": "stream",
          "name": "stdout",
          "text": [
            "Mounted at /content/drive\n"
          ]
        }
      ]
    },
    {
      "cell_type": "code",
      "metadata": {
        "colab": {
          "base_uri": "https://localhost:8080/",
          "height": 267
        },
        "id": "Q-PmqYRi8gnD",
        "outputId": "9d6f0da3-1ed4-4da3-be90-7f44d27c8c83"
      },
      "source": [
        "#create dummy variables for species in Iris data\n",
        "iris_dummies = pandas.get_dummies(iris_data, columns = ['species'])\n",
        "iris_dummies.head()"
      ],
      "execution_count": null,
      "outputs": [
        {
          "output_type": "execute_result",
          "data": {
            "text/plain": [
              "   sepal length  sepal width  petal length  petal width  species_Iris-setosa  \\\n",
              "0           5.1          3.5           1.4          0.2                    1   \n",
              "1           4.9          3.0           1.4          0.2                    1   \n",
              "2           4.7          3.2           1.3          0.2                    1   \n",
              "3           4.6          3.1           1.5          0.2                    1   \n",
              "4           5.0          3.6           1.4          0.2                    1   \n",
              "\n",
              "   species_Iris-versicolor  species_Iris-virginica  \n",
              "0                        0                       0  \n",
              "1                        0                       0  \n",
              "2                        0                       0  \n",
              "3                        0                       0  \n",
              "4                        0                       0  "
            ],
            "text/html": [
              "\n",
              "  <div id=\"df-dcb44ad0-a932-4945-8ba2-7a7bda84e5db\">\n",
              "    <div class=\"colab-df-container\">\n",
              "      <div>\n",
              "<style scoped>\n",
              "    .dataframe tbody tr th:only-of-type {\n",
              "        vertical-align: middle;\n",
              "    }\n",
              "\n",
              "    .dataframe tbody tr th {\n",
              "        vertical-align: top;\n",
              "    }\n",
              "\n",
              "    .dataframe thead th {\n",
              "        text-align: right;\n",
              "    }\n",
              "</style>\n",
              "<table border=\"1\" class=\"dataframe\">\n",
              "  <thead>\n",
              "    <tr style=\"text-align: right;\">\n",
              "      <th></th>\n",
              "      <th>sepal length</th>\n",
              "      <th>sepal width</th>\n",
              "      <th>petal length</th>\n",
              "      <th>petal width</th>\n",
              "      <th>species_Iris-setosa</th>\n",
              "      <th>species_Iris-versicolor</th>\n",
              "      <th>species_Iris-virginica</th>\n",
              "    </tr>\n",
              "  </thead>\n",
              "  <tbody>\n",
              "    <tr>\n",
              "      <th>0</th>\n",
              "      <td>5.1</td>\n",
              "      <td>3.5</td>\n",
              "      <td>1.4</td>\n",
              "      <td>0.2</td>\n",
              "      <td>1</td>\n",
              "      <td>0</td>\n",
              "      <td>0</td>\n",
              "    </tr>\n",
              "    <tr>\n",
              "      <th>1</th>\n",
              "      <td>4.9</td>\n",
              "      <td>3.0</td>\n",
              "      <td>1.4</td>\n",
              "      <td>0.2</td>\n",
              "      <td>1</td>\n",
              "      <td>0</td>\n",
              "      <td>0</td>\n",
              "    </tr>\n",
              "    <tr>\n",
              "      <th>2</th>\n",
              "      <td>4.7</td>\n",
              "      <td>3.2</td>\n",
              "      <td>1.3</td>\n",
              "      <td>0.2</td>\n",
              "      <td>1</td>\n",
              "      <td>0</td>\n",
              "      <td>0</td>\n",
              "    </tr>\n",
              "    <tr>\n",
              "      <th>3</th>\n",
              "      <td>4.6</td>\n",
              "      <td>3.1</td>\n",
              "      <td>1.5</td>\n",
              "      <td>0.2</td>\n",
              "      <td>1</td>\n",
              "      <td>0</td>\n",
              "      <td>0</td>\n",
              "    </tr>\n",
              "    <tr>\n",
              "      <th>4</th>\n",
              "      <td>5.0</td>\n",
              "      <td>3.6</td>\n",
              "      <td>1.4</td>\n",
              "      <td>0.2</td>\n",
              "      <td>1</td>\n",
              "      <td>0</td>\n",
              "      <td>0</td>\n",
              "    </tr>\n",
              "  </tbody>\n",
              "</table>\n",
              "</div>\n",
              "      <button class=\"colab-df-convert\" onclick=\"convertToInteractive('df-dcb44ad0-a932-4945-8ba2-7a7bda84e5db')\"\n",
              "              title=\"Convert this dataframe to an interactive table.\"\n",
              "              style=\"display:none;\">\n",
              "        \n",
              "  <svg xmlns=\"http://www.w3.org/2000/svg\" height=\"24px\"viewBox=\"0 0 24 24\"\n",
              "       width=\"24px\">\n",
              "    <path d=\"M0 0h24v24H0V0z\" fill=\"none\"/>\n",
              "    <path d=\"M18.56 5.44l.94 2.06.94-2.06 2.06-.94-2.06-.94-.94-2.06-.94 2.06-2.06.94zm-11 1L8.5 8.5l.94-2.06 2.06-.94-2.06-.94L8.5 2.5l-.94 2.06-2.06.94zm10 10l.94 2.06.94-2.06 2.06-.94-2.06-.94-.94-2.06-.94 2.06-2.06.94z\"/><path d=\"M17.41 7.96l-1.37-1.37c-.4-.4-.92-.59-1.43-.59-.52 0-1.04.2-1.43.59L10.3 9.45l-7.72 7.72c-.78.78-.78 2.05 0 2.83L4 21.41c.39.39.9.59 1.41.59.51 0 1.02-.2 1.41-.59l7.78-7.78 2.81-2.81c.8-.78.8-2.07 0-2.86zM5.41 20L4 18.59l7.72-7.72 1.47 1.35L5.41 20z\"/>\n",
              "  </svg>\n",
              "      </button>\n",
              "      \n",
              "  <style>\n",
              "    .colab-df-container {\n",
              "      display:flex;\n",
              "      flex-wrap:wrap;\n",
              "      gap: 12px;\n",
              "    }\n",
              "\n",
              "    .colab-df-convert {\n",
              "      background-color: #E8F0FE;\n",
              "      border: none;\n",
              "      border-radius: 50%;\n",
              "      cursor: pointer;\n",
              "      display: none;\n",
              "      fill: #1967D2;\n",
              "      height: 32px;\n",
              "      padding: 0 0 0 0;\n",
              "      width: 32px;\n",
              "    }\n",
              "\n",
              "    .colab-df-convert:hover {\n",
              "      background-color: #E2EBFA;\n",
              "      box-shadow: 0px 1px 2px rgba(60, 64, 67, 0.3), 0px 1px 3px 1px rgba(60, 64, 67, 0.15);\n",
              "      fill: #174EA6;\n",
              "    }\n",
              "\n",
              "    [theme=dark] .colab-df-convert {\n",
              "      background-color: #3B4455;\n",
              "      fill: #D2E3FC;\n",
              "    }\n",
              "\n",
              "    [theme=dark] .colab-df-convert:hover {\n",
              "      background-color: #434B5C;\n",
              "      box-shadow: 0px 1px 3px 1px rgba(0, 0, 0, 0.15);\n",
              "      filter: drop-shadow(0px 1px 2px rgba(0, 0, 0, 0.3));\n",
              "      fill: #FFFFFF;\n",
              "    }\n",
              "  </style>\n",
              "\n",
              "      <script>\n",
              "        const buttonEl =\n",
              "          document.querySelector('#df-dcb44ad0-a932-4945-8ba2-7a7bda84e5db button.colab-df-convert');\n",
              "        buttonEl.style.display =\n",
              "          google.colab.kernel.accessAllowed ? 'block' : 'none';\n",
              "\n",
              "        async function convertToInteractive(key) {\n",
              "          const element = document.querySelector('#df-dcb44ad0-a932-4945-8ba2-7a7bda84e5db');\n",
              "          const dataTable =\n",
              "            await google.colab.kernel.invokeFunction('convertToInteractive',\n",
              "                                                     [key], {});\n",
              "          if (!dataTable) return;\n",
              "\n",
              "          const docLinkHtml = 'Like what you see? Visit the ' +\n",
              "            '<a target=\"_blank\" href=https://colab.research.google.com/notebooks/data_table.ipynb>data table notebook</a>'\n",
              "            + ' to learn more about interactive tables.';\n",
              "          element.innerHTML = '';\n",
              "          dataTable['output_type'] = 'display_data';\n",
              "          await google.colab.output.renderOutput(dataTable, element);\n",
              "          const docLink = document.createElement('div');\n",
              "          docLink.innerHTML = docLinkHtml;\n",
              "          element.appendChild(docLink);\n",
              "        }\n",
              "      </script>\n",
              "    </div>\n",
              "  </div>\n",
              "  "
            ]
          },
          "metadata": {},
          "execution_count": 2
        }
      ]
    },
    {
      "cell_type": "code",
      "metadata": {
        "colab": {
          "base_uri": "https://localhost:8080/"
        },
        "id": "52CrqSnk8qXQ",
        "outputId": "a321abb8-6a5f-4419-996b-3427f9e9a3bf"
      },
      "source": [
        "### use a Perceptron to predict if an iris is a Setosa\n",
        "\n",
        "import pandas\n",
        "from sklearn.model_selection import train_test_split\n",
        "from sklearn.linear_model import Perceptron\n",
        "from sklearn import metrics\n",
        "\n",
        "\n",
        "#ignore warings -- there are lots of warnings regarding default values of Perceptron; which we accept\n",
        "import warnings\n",
        "warnings.filterwarnings(\"ignore\")\n",
        "\n",
        "# get \"dummy\" variables for species\n",
        "iris_dummies = pandas.get_dummies(iris_data, columns = ['species'])\n",
        "predictors = ['sepal length', 'sepal width', 'petal length', 'petal width']\n",
        "#target = \"species_Iris-virginica\"\n",
        "#target = \"species_Iris-setosa\"\n",
        "target = \"species_Iris-versicolor\"\n",
        "\n",
        "#establish training and testing sets\n",
        "train_data, test_data, train_sln, test_sln = train_test_split(iris_dummies[predictors], iris_dummies[target], test_size = 0.2, random_state=41)\n",
        "\n",
        "#load up scikit-learn Perceptron\n",
        "perc = Perceptron()\n",
        "perc.fit(train_data,train_sln)\n",
        "iris_perc_predictions = perc.predict(test_data)\n",
        "\n",
        "#output accuracy\n",
        "print(\"Setosa accuracy:\", metrics.accuracy_score(test_sln, iris_perc_predictions))"
      ],
      "execution_count": null,
      "outputs": [
        {
          "output_type": "stream",
          "name": "stdout",
          "text": [
            "Setosa accuracy: 0.6333333333333333\n"
          ]
        }
      ]
    },
    {
      "cell_type": "code",
      "metadata": {
        "id": "NmuvJXiAOiL7",
        "colab": {
          "base_uri": "https://localhost:8080/",
          "height": 458
        },
        "outputId": "a066c7e4-4e06-45ad-902d-9ae66709b051"
      },
      "source": [
        "#let's take a look at the data:\n",
        "import seaborn as sns\n",
        "import matplotlib.pyplot as plt\n",
        " \n",
        "iris = sns.load_dataset('iris')\n",
        "sns.set_style(\"whitegrid\")\n",
        " \n",
        "# sepal_length, petal_length are iris\n",
        "# feature data height used to define\n",
        "# Height of graph whereas hue store the\n",
        "# class of iris dataset.\n",
        "sns.FacetGrid(iris, hue =\"species\",\n",
        "              height = 6).map(plt.scatter,\n",
        "                              'petal_width',\n",
        "                              'petal_length').add_legend()\n"
      ],
      "execution_count": null,
      "outputs": [
        {
          "output_type": "execute_result",
          "data": {
            "text/plain": [
              "<seaborn.axisgrid.FacetGrid at 0x7f78eef1dbd0>"
            ]
          },
          "metadata": {},
          "execution_count": 5
        },
        {
          "output_type": "display_data",
          "data": {
            "text/plain": [
              "<Figure size 516.75x432 with 1 Axes>"
            ],
            "image/png": "[encoded data removed]"
          },
          "metadata": {}
        }
      ]
    },
    {
      "cell_type": "markdown",
      "metadata": {
        "id": "Rr-T8k-pCf4_"
      },
      "source": [
        "# In class Exercise 1:\n",
        "- Given the example for species_Iris-setosa, how does Perceptron do for:\n",
        "  - species_Iris-virginica\n",
        "  - species_Iris-versicolor\n",
        "- Do you expect these to also give 100% accuracy? Why or why not?"
      ]
    },
    {
      "cell_type": "code",
      "metadata": {
        "id": "HF5CvZX2CfnE",
        "colab": {
          "base_uri": "https://localhost:8080/"
        },
        "outputId": "0facabfd-66cf-4f12-d6da-5ffa13c043f8"
      },
      "source": [
        "# Code for testing the accuracy of species_Iris-virginica using a Perceptron\n",
        "target = \"species_Iris-virginica\"\n",
        "\n",
        "\n",
        "#establish training and testing sets\n",
        "train_data, test_data, train_sln, test_sln = train_test_split(iris_dummies[predictors], iris_dummies[target], test_size = 0.2, random_state=41)\n",
        "\n",
        "#load up scikit-learn Perceptron\n",
        "perc = Perceptron()\n",
        "perc.fit(train_data,train_sln)\n",
        "iris_perc_predictions = perc.predict(test_data)\n",
        "\n",
        "#output accuracy\n",
        "print(\"Setosa accuracy:\", metrics.accuracy_score(test_sln, iris_perc_predictions))"
      ],
      "execution_count": null,
      "outputs": [
        {
          "output_type": "stream",
          "name": "stdout",
          "text": [
            "Setosa accuracy: 0.6666666666666666\n"
          ]
        }
      ]
    },
    {
      "cell_type": "code",
      "metadata": {
        "id": "vwFc6m3M9FYH",
        "colab": {
          "base_uri": "https://localhost:8080/"
        },
        "outputId": "2e4e1061-30c6-4109-9d46-570dd04c3854"
      },
      "source": [
        "# Code for testing the accuracy of species_Iris-versicolor using a Perceptron\n",
        "\n",
        "target = \"species_Iris-versicolor\"\n",
        "\n",
        "#establish training and testing sets\n",
        "train_data, test_data, train_sln, test_sln = train_test_split(iris_dummies[predictors], iris_dummies[target], test_size = 0.2, random_state=41)\n",
        "\n",
        "#load up scikit-learn Perceptron\n",
        "perc = Perceptron()\n",
        "perc.fit(train_data,train_sln)\n",
        "iris_perc_predictions = perc.predict(test_data)\n",
        "\n",
        "#output accuracy\n",
        "print(\"Setosa accuracy:\", metrics.accuracy_score(test_sln, iris_perc_predictions))"
      ],
      "execution_count": null,
      "outputs": [
        {
          "output_type": "stream",
          "name": "stdout",
          "text": [
            "Setosa accuracy: 0.6333333333333333\n"
          ]
        }
      ]
    },
    {
      "cell_type": "markdown",
      "metadata": {
        "id": "zDsydOAIDNLr"
      },
      "source": [
        "# Boston Housing Dataset:\n",
        "\n",
        "- CRIM - per capita crime rate by town\n",
        "- ZN - proportion of residential land zoned for lots over 25,000 sq.ft.\n",
        "- INDUS - proportion of non-retail business acres per town.\n",
        "- CHAS - Charles River dummy variable (1 if tract bounds river; 0 otherwise)\n",
        "- NOX - nitric oxides concentration (parts per 10 million)\n",
        "- RM - average number of rooms per dwelling\n",
        "- AGE - proportion of owner-occupied units built prior to 1940\n",
        "- DIS - weighted distances to five Boston employment centres\n",
        "- RAD - index of accessibility to radial highways\n",
        "- TAX - full-value property-tax rate per \\$10,000\n",
        "- PTRATIO - pupil-teacher ratio by town\n",
        "- B - 1000(Bk - 0.63)^2 where Bk is the proportion of blacks by town\n",
        "- LSTAT - % lower status of the population\n",
        "- MEDV - Median value of owner-occupied homes in \\$1000's"
      ]
    },
    {
      "cell_type": "code",
      "metadata": {
        "colab": {
          "base_uri": "https://localhost:8080/",
          "height": 206
        },
        "id": "FDAWf4AX80vY",
        "outputId": "1aa5d329-894c-4c45-a604-18540709cb0b"
      },
      "source": [
        "#Boston Housing Data\n",
        "\n",
        "from sklearn.linear_model import Perceptron\n",
        "from sklearn import tree\n",
        "from sklearn.model_selection import train_test_split\n",
        "from sklearn import metrics\n",
        "\n",
        "import pandas\n",
        "data = pandas.read_csv('/content/drive/MyDrive/CS167Spring22/datasets/boston_housing.csv') \n",
        "data.head()"
      ],
      "execution_count": null,
      "outputs": [
        {
          "output_type": "execute_result",
          "data": {
            "text/plain": [
              "      CRIM    ZN  INDUS  CHAS    NOX     RM   AGE     DIS  RAD  TAX  PTRATIO  \\\n",
              "0  0.00632  18.0   2.31     0  0.538  6.575  65.2  4.0900    1  296     15.3   \n",
              "1  0.02731   0.0   7.07     0  0.469  6.421  78.9  4.9671    2  242     17.8   \n",
              "2  0.02729   0.0   7.07     0  0.469  7.185  61.1  4.9671    2  242     17.8   \n",
              "3  0.03237   0.0   2.18     0  0.458  6.998  45.8  6.0622    3  222     18.7   \n",
              "4  0.06905   0.0   2.18     0  0.458  7.147  54.2  6.0622    3  222     18.7   \n",
              "\n",
              "   LSTAT  MEDV  \n",
              "0   4.98  24.0  \n",
              "1   9.14  21.6  \n",
              "2   4.03  34.7  \n",
              "3   2.94  33.4  \n",
              "4   5.33  36.2  "
            ],
            "text/html": [
              "\n",
              "  <div id=\"df-280a958c-9e4e-4324-9fbd-0ce3daa55866\">\n",
              "    <div class=\"colab-df-container\">\n",
              "      <div>\n",
              "<style scoped>\n",
              "    .dataframe tbody tr th:only-of-type {\n",
              "        vertical-align: middle;\n",
              "    }\n",
              "\n",
              "    .dataframe tbody tr th {\n",
              "        vertical-align: top;\n",
              "    }\n",
              "\n",
              "    .dataframe thead th {\n",
              "        text-align: right;\n",
              "    }\n",
              "</style>\n",
              "<table border=\"1\" class=\"dataframe\">\n",
              "  <thead>\n",
              "    <tr style=\"text-align: right;\">\n",
              "      <th></th>\n",
              "      <th>CRIM</th>\n",
              "      <th>ZN</th>\n",
              "      <th>INDUS</th>\n",
              "      <th>CHAS</th>\n",
              "      <th>NOX</th>\n",
              "      <th>RM</th>\n",
              "      <th>AGE</th>\n",
              "      <th>DIS</th>\n",
              "      <th>RAD</th>\n",
              "      <th>TAX</th>\n",
              "      <th>PTRATIO</th>\n",
              "      <th>LSTAT</th>\n",
              "      <th>MEDV</th>\n",
              "    </tr>\n",
              "  </thead>\n",
              "  <tbody>\n",
              "    <tr>\n",
              "      <th>0</th>\n",
              "      <td>0.00632</td>\n",
              "      <td>18.0</td>\n",
              "      <td>2.31</td>\n",
              "      <td>0</td>\n",
              "      <td>0.538</td>\n",
              "      <td>6.575</td>\n",
              "      <td>65.2</td>\n",
              "      <td>4.0900</td>\n",
              "      <td>1</td>\n",
              "      <td>296</td>\n",
              "      <td>15.3</td>\n",
              "      <td>4.98</td>\n",
              "      <td>24.0</td>\n",
              "    </tr>\n",
              "    <tr>\n",
              "      <th>1</th>\n",
              "      <td>0.02731</td>\n",
              "      <td>0.0</td>\n",
              "      <td>7.07</td>\n",
              "      <td>0</td>\n",
              "      <td>0.469</td>\n",
              "      <td>6.421</td>\n",
              "      <td>78.9</td>\n",
              "      <td>4.9671</td>\n",
              "      <td>2</td>\n",
              "      <td>242</td>\n",
              "      <td>17.8</td>\n",
              "      <td>9.14</td>\n",
              "      <td>21.6</td>\n",
              "    </tr>\n",
              "    <tr>\n",
              "      <th>2</th>\n",
              "      <td>0.02729</td>\n",
              "      <td>0.0</td>\n",
              "      <td>7.07</td>\n",
              "      <td>0</td>\n",
              "      <td>0.469</td>\n",
              "      <td>7.185</td>\n",
              "      <td>61.1</td>\n",
              "      <td>4.9671</td>\n",
              "      <td>2</td>\n",
              "      <td>242</td>\n",
              "      <td>17.8</td>\n",
              "      <td>4.03</td>\n",
              "      <td>34.7</td>\n",
              "    </tr>\n",
              "    <tr>\n",
              "      <th>3</th>\n",
              "      <td>0.03237</td>\n",
              "      <td>0.0</td>\n",
              "      <td>2.18</td>\n",
              "      <td>0</td>\n",
              "      <td>0.458</td>\n",
              "      <td>6.998</td>\n",
              "      <td>45.8</td>\n",
              "      <td>6.0622</td>\n",
              "      <td>3</td>\n",
              "      <td>222</td>\n",
              "      <td>18.7</td>\n",
              "      <td>2.94</td>\n",
              "      <td>33.4</td>\n",
              "    </tr>\n",
              "    <tr>\n",
              "      <th>4</th>\n",
              "      <td>0.06905</td>\n",
              "      <td>0.0</td>\n",
              "      <td>2.18</td>\n",
              "      <td>0</td>\n",
              "      <td>0.458</td>\n",
              "      <td>7.147</td>\n",
              "      <td>54.2</td>\n",
              "      <td>6.0622</td>\n",
              "      <td>3</td>\n",
              "      <td>222</td>\n",
              "      <td>18.7</td>\n",
              "      <td>5.33</td>\n",
              "      <td>36.2</td>\n",
              "    </tr>\n",
              "  </tbody>\n",
              "</table>\n",
              "</div>\n",
              "      <button class=\"colab-df-convert\" onclick=\"convertToInteractive('df-280a958c-9e4e-4324-9fbd-0ce3daa55866')\"\n",
              "              title=\"Convert this dataframe to an interactive table.\"\n",
              "              style=\"display:none;\">\n",
              "        \n",
              "  <svg xmlns=\"http://www.w3.org/2000/svg\" height=\"24px\"viewBox=\"0 0 24 24\"\n",
              "       width=\"24px\">\n",
              "    <path d=\"M0 0h24v24H0V0z\" fill=\"none\"/>\n",
              "    <path d=\"M18.56 5.44l.94 2.06.94-2.06 2.06-.94-2.06-.94-.94-2.06-.94 2.06-2.06.94zm-11 1L8.5 8.5l.94-2.06 2.06-.94-2.06-.94L8.5 2.5l-.94 2.06-2.06.94zm10 10l.94 2.06.94-2.06 2.06-.94-2.06-.94-.94-2.06-.94 2.06-2.06.94z\"/><path d=\"M17.41 7.96l-1.37-1.37c-.4-.4-.92-.59-1.43-.59-.52 0-1.04.2-1.43.59L10.3 9.45l-7.72 7.72c-.78.78-.78 2.05 0 2.83L4 21.41c.39.39.9.59 1.41.59.51 0 1.02-.2 1.41-.59l7.78-7.78 2.81-2.81c.8-.78.8-2.07 0-2.86zM5.41 20L4 18.59l7.72-7.72 1.47 1.35L5.41 20z\"/>\n",
              "  </svg>\n",
              "      </button>\n",
              "      \n",
              "  <style>\n",
              "    .colab-df-container {\n",
              "      display:flex;\n",
              "      flex-wrap:wrap;\n",
              "      gap: 12px;\n",
              "    }\n",
              "\n",
              "    .colab-df-convert {\n",
              "      background-color: #E8F0FE;\n",
              "      border: none;\n",
              "      border-radius: 50%;\n",
              "      cursor: pointer;\n",
              "      display: none;\n",
              "      fill: #1967D2;\n",
              "      height: 32px;\n",
              "      padding: 0 0 0 0;\n",
              "      width: 32px;\n",
              "    }\n",
              "\n",
              "    .colab-df-convert:hover {\n",
              "      background-color: #E2EBFA;\n",
              "      box-shadow: 0px 1px 2px rgba(60, 64, 67, 0.3), 0px 1px 3px 1px rgba(60, 64, 67, 0.15);\n",
              "      fill: #174EA6;\n",
              "    }\n",
              "\n",
              "    [theme=dark] .colab-df-convert {\n",
              "      background-color: #3B4455;\n",
              "      fill: #D2E3FC;\n",
              "    }\n",
              "\n",
              "    [theme=dark] .colab-df-convert:hover {\n",
              "      background-color: #434B5C;\n",
              "      box-shadow: 0px 1px 3px 1px rgba(0, 0, 0, 0.15);\n",
              "      filter: drop-shadow(0px 1px 2px rgba(0, 0, 0, 0.3));\n",
              "      fill: #FFFFFF;\n",
              "    }\n",
              "  </style>\n",
              "\n",
              "      <script>\n",
              "        const buttonEl =\n",
              "          document.querySelector('#df-280a958c-9e4e-4324-9fbd-0ce3daa55866 button.colab-df-convert');\n",
              "        buttonEl.style.display =\n",
              "          google.colab.kernel.accessAllowed ? 'block' : 'none';\n",
              "\n",
              "        async function convertToInteractive(key) {\n",
              "          const element = document.querySelector('#df-280a958c-9e4e-4324-9fbd-0ce3daa55866');\n",
              "          const dataTable =\n",
              "            await google.colab.kernel.invokeFunction('convertToInteractive',\n",
              "                                                     [key], {});\n",
              "          if (!dataTable) return;\n",
              "\n",
              "          const docLinkHtml = 'Like what you see? Visit the ' +\n",
              "            '<a target=\"_blank\" href=https://colab.research.google.com/notebooks/data_table.ipynb>data table notebook</a>'\n",
              "            + ' to learn more about interactive tables.';\n",
              "          element.innerHTML = '';\n",
              "          dataTable['output_type'] = 'display_data';\n",
              "          await google.colab.output.renderOutput(dataTable, element);\n",
              "          const docLink = document.createElement('div');\n",
              "          docLink.innerHTML = docLinkHtml;\n",
              "          element.appendChild(docLink);\n",
              "        }\n",
              "      </script>\n",
              "    </div>\n",
              "  </div>\n",
              "  "
            ]
          },
          "metadata": {},
          "execution_count": 3
        }
      ]
    },
    {
      "cell_type": "code",
      "metadata": {
        "colab": {
          "base_uri": "https://localhost:8080/",
          "height": 458
        },
        "id": "noAXCSmu8989",
        "outputId": "3c21e2f4-e39d-4410-a1c2-0615ce77aee0"
      },
      "source": [
        "## Play around with plotting different predictor variables\n",
        "sns.set_style(\"whitegrid\")\n",
        " \n",
        "# sepal_length, petal_length are iris\n",
        "# feature data height used to define\n",
        "# Height of graph whereas hue store the\n",
        "# class of iris dataset.\n",
        "sns.FacetGrid(data,height = 6).map(plt.scatter,'MEDV','CRIM')"
      ],
      "execution_count": null,
      "outputs": [
        {
          "output_type": "execute_result",
          "data": {
            "text/plain": [
              "<seaborn.axisgrid.FacetGrid at 0x7f78ee3108d0>"
            ]
          },
          "metadata": {},
          "execution_count": 6
        },
        {
          "output_type": "display_data",
          "data": {
            "text/plain": [
              "<Figure size 432x432 with 1 Axes>"
            ],
            "image/png": "[encoded data removed]"
          },
          "metadata": {}
        }
      ]
    },
    {
      "cell_type": "markdown",
      "metadata": {
        "id": "p40GhLcwDDty"
      },
      "source": [
        "# In-class Exercise 2:\n",
        "- Find a Gradient Descent Algorithm on scikit-learn\n",
        "  - Hint: Stochastic Gradient Descent (SGD)\n",
        "- Apply it to the Boston Housing Market Dataset\n",
        "- Utilize a metric to determine how well the algorithm is doing\n",
        "- Consider reading the user's guide if the results don't make sense\n",
        "- Can you plot the results of the MSE v Epochs?"
      ]
    },
    {
      "cell_type": "code",
      "metadata": {
        "id": "XOhTkwZiDfvF",
        "colab": {
          "base_uri": "https://localhost:8080/"
        },
        "outputId": "b78d4c76-4323-4097-d3ac-00382f83dc29"
      },
      "source": [
        "# Code using SGD on Boston Housing Dataset:\n",
        "#ignore warings -- there are lots of warnings regarding default values of Perceptron; which we accept\n",
        "import warnings\n",
        "warnings.filterwarnings(\"ignore\")\n",
        "from sklearn.linear_model import SGDRegressor\n",
        "\n",
        "predictors = data.columns.drop('MEDV')\n",
        "target = 'MEDV'\n",
        "\n",
        "#establish training and testing sets\n",
        "train_data, test_data, train_sln, test_sln = train_test_split(data[predictors], data[target], test_size = 0.2, random_state=41)\n",
        "\n",
        "#load up scikit-learn SGDregressor\n",
        "sgd = SGDRegressor()\n",
        "sgd.fit(train_data,train_sln)\n",
        "medv_sgd_predictions = sgd.predict(test_data)\n",
        "\n",
        "#output accuracy\n",
        "print(\"SGD Regression R2:\", metrics.r2_score(test_sln, medv_sgd_predictions))\n",
        "print(\"SGD Regression MAE:\", metrics.mean_absolute_error(test_sln, medv_sgd_predictions))\n",
        "print(\"SGD Regression MSE:\", metrics.mean_squared_error(test_sln, medv_sgd_predictions))\n"
      ],
      "execution_count": null,
      "outputs": [
        {
          "output_type": "stream",
          "name": "stdout",
          "text": [
            "SGD Regression R2: -1.37568341389031e+26\n",
            "SGD Regression MAE: 75871167304285.52\n",
            "SGD Regression MSE: 6.38742502803194e+27\n"
          ]
        }
      ]
    },
    {
      "cell_type": "code",
      "source": [
        ""
      ],
      "metadata": {
        "id": "KfN_2DJFZUJ9"
      },
      "execution_count": null,
      "outputs": []
    },
    {
      "cell_type": "code",
      "source": [
        "#Guessing that the huge error comes from not normalizing the data:\n",
        "#normalize the data\n",
        "from sklearn.preprocessing import StandardScaler\n",
        "scaler = StandardScaler()\n",
        "scaler.fit(train_data)\n",
        "train_data_normalized = scaler.transform(train_data)\n",
        "test_data_normalized = scaler.transform(test_data)\n",
        "\n",
        "#load up scikit-learn Perceptron\n",
        "sgd = SGDRegressor()\n",
        "sgd.fit(train_data_normalized,train_sln)\n",
        "medv_sgd_predictions = sgd.predict(test_data_normalized)\n",
        "\n",
        "#output accuracy\n",
        "print(\"SGD Regression R2:\", metrics.r2_score(test_sln, medv_sgd_predictions))\n",
        "print(\"SGD Regression MAE:\", metrics.mean_absolute_error(test_sln, medv_sgd_predictions))\n",
        "print(\"SGD Regression MSE:\", metrics.mean_squared_error(test_sln, medv_sgd_predictions))"
      ],
      "metadata": {
        "colab": {
          "base_uri": "https://localhost:8080/"
        },
        "id": "oXnTqGn35QiZ",
        "outputId": "9e0bcc4b-b180-4188-9aac-f1b162389f88"
      },
      "execution_count": null,
      "outputs": [
        {
          "output_type": "stream",
          "name": "stdout",
          "text": [
            "SGD Regression R2: 0.525525962065279\n",
            "SGD Regression MAE: 3.391911136830642\n",
            "SGD Regression MSE: 22.030267388956563\n"
          ]
        }
      ]
    },
    {
      "cell_type": "code",
      "source": [
        "sgd = SGDRegressor(learning_rate=\"constant\", eta0=0.000001, max_iter=10000000)\n",
        "sgd.fit(train_data, train_sln)\n",
        "\n",
        "pred = sgd.predict(test_data)\n",
        "\n",
        "print(\"SGD Regression R2:\", metrics.r2_score(test_sln, pred))\n",
        "print(\"SGD Regression MAE:\", metrics.mean_absolute_error(test_sln, pred))\n",
        "print(\"SGD Regression MSE:\", metrics.mean_squared_error(test_sln, pred))\n"
      ],
      "metadata": {
        "colab": {
          "base_uri": "https://localhost:8080/"
        },
        "id": "AmadBiMG5WtD",
        "outputId": "5a1e3e80-e28b-4a80-bfed-898a89e668e6"
      },
      "execution_count": null,
      "outputs": [
        {
          "output_type": "stream",
          "name": "stdout",
          "text": [
            "SGD Regression R2: -0.2064379300080761\n",
            "SGD Regression MAE: 6.046041428108493\n",
            "SGD Regression MSE: 56.01602629713082\n"
          ]
        }
      ]
    },
    {
      "cell_type": "code",
      "source": [
        "#regression_SGD performs Stochastic Gradient Descent\n",
        "#input: training data, testing, data, traing solution, testing solutions, # of epochs\n",
        "#return: the mean squared error\n",
        "def regression_SGD(train, test, train_sln, test_sln, epochs):\n",
        "    sgd = SGDRegressor(eta0=0.000001, max_iter=epochs)\n",
        "    sgd.fit(train, train_sln)\n",
        "    predictions = sgd.predict(test)\n",
        "    mse = metrics.mean_squared_error(test_sln,predictions)\n",
        "    return mse\n",
        "\n",
        "# run the data over this range of epochs 1 through 10\n",
        "epoch_list = range(1, 10)\n",
        "epoch_accuracies = []\n",
        "\n",
        "for epoch in epoch_list:\n",
        "    r = regression_SGD(train_data, test_data, train_sln, test_sln, epoch)\n",
        "    epoch_accuracies.append(r)\n",
        "    \n",
        "# plot the results\n",
        "import matplotlib.pyplot as plt\n",
        "%matplotlib inline\n",
        "plt.suptitle('MSE vs Epochs (not normalized)',fontsize=12)\n",
        "plt.xlabel('number of epochs')\n",
        "plt.ylabel('mean squared error')\n",
        "plt.plot(epoch_list,epoch_accuracies,'bs-')\n",
        "\n",
        "plt.axis([1,10,0,200])\n",
        "\n",
        "plt.show()\n"
      ],
      "metadata": {
        "colab": {
          "base_uri": "https://localhost:8080/",
          "height": 308
        },
        "id": "qa6-EHTo5bjy",
        "outputId": "822b0d43-d21f-4b29-a184-3ef5e5ceec9b"
      },
      "execution_count": null,
      "outputs": [
        {
          "output_type": "display_data",
          "data": {
            "text/plain": [
              "<Figure size 432x288 with 1 Axes>"
            ],
            "image/png": "[encoded data removed]"
          },
          "metadata": {
            "needs_background": "light"
          }
        }
      ]
    },
    {
      "cell_type": "code",
      "metadata": {
        "id": "Tr047KdWDxz_",
        "colab": {
          "base_uri": "https://localhost:8080/",
          "height": 308
        },
        "outputId": "acc89e70-f6ef-4c84-e7f8-c636ce12c2c0"
      },
      "source": [
        "# Plot the results of the MSE v Epochs\n",
        "#regression_SGD performs Stochastic Gradient Descent\n",
        "#input: training data, testing, data, traing solution, testing solutions, # of epochs\n",
        "#return: the mean squared error\n",
        "def regression_SGD(train, test, train_sln, test_sln, epochs):\n",
        "    sgd = SGDRegressor(eta0=0.000001, max_iter=epochs) #let's try with setting eta to be very small\n",
        "    sgd.fit(train, train_sln)\n",
        "    predictions = sgd.predict(test)\n",
        "    mse = metrics.mean_squared_error(test_sln,predictions)\n",
        "    return mse\n",
        "\n",
        "# run the data over this range of epochs 1 through 10\n",
        "epoch_list = range(1,10)\n",
        "epoch_accuracies = []\n",
        "\n",
        "for epoch in epoch_list:\n",
        "    r = regression_SGD(train_data, test_data, train_sln, test_sln, epoch)\n",
        "    epoch_accuracies.append(r)\n",
        "    \n",
        "# plot the results\n",
        "import matplotlib.pyplot as plt\n",
        "%matplotlib inline\n",
        "plt.suptitle('MSE vs Epochs (not normalized)',fontsize=12)\n",
        "plt.xlabel('number of epochs')\n",
        "plt.ylabel('mean squared error')\n",
        "plt.plot(epoch_list,epoch_accuracies,'bs-')\n",
        "\n",
        "plt.axis([1,10,0,200])\n",
        "\n",
        "plt.show()"
      ],
      "execution_count": null,
      "outputs": [
        {
          "output_type": "display_data",
          "data": {
            "text/plain": [
              "<Figure size 432x288 with 1 Axes>"
            ],
            "image/png": "[encoded data removed]"
          },
          "metadata": {
            "needs_background": "light"
          }
        }
      ]
    },
    {
      "cell_type": "code",
      "metadata": {
        "id": "npA-2jDTD0s5",
        "colab": {
          "base_uri": "https://localhost:8080/",
          "height": 308
        },
        "outputId": "133663df-853f-405d-a1bc-d26c119fc097"
      },
      "source": [
        "#normalize the data\n",
        "from sklearn.preprocessing import StandardScaler\n",
        "scaler = StandardScaler()\n",
        "scaler.fit(train_data)\n",
        "train_data_normalized = scaler.transform(train_data)\n",
        "test_data_normalized = scaler.transform(test_data)\n",
        "\n",
        "#regression_SGD performs Stochastic Gradient Descent\n",
        "#input: training data, testing, data, traing solution, testing solutions, # of epochs\n",
        "#return: the mean squared error\n",
        "def regression_SGD(train, test, train_sln, test_sln, epochs):\n",
        "    sgd = SGDRegressor(max_iter=epochs)\n",
        "    sgd.fit(train, train_sln)\n",
        "    predictions = sgd.predict(test)\n",
        "    mse = metrics.mean_squared_error(test_sln,predictions)\n",
        "    return mse\n",
        "\n",
        "# run the data over this range of epochs 1 through 10\n",
        "epoch_list = range(1, 11)\n",
        "epoch_accuracies = []\n",
        "\n",
        "for epoch in epoch_list:\n",
        "    r = regression_SGD(train_data_normalized, test_data_normalized, train_sln, test_sln, epoch)\n",
        "    epoch_accuracies.append(r)\n",
        "\n",
        "# plot the results\n",
        "import matplotlib.pyplot as plt\n",
        "%matplotlib inline\n",
        "plt.suptitle('MSE vs Epochs (normalized)',fontsize=12)\n",
        "plt.xlabel('number of epochs')\n",
        "plt.ylabel('mean squared error')\n",
        "plt.plot(epoch_list,epoch_accuracies,'bs-')\n",
        "\n",
        "plt.axis([1,10,0,100])\n",
        "\n",
        "plt.show()"
      ],
      "execution_count": null,
      "outputs": [
        {
          "output_type": "display_data",
          "data": {
            "text/plain": [
              "<Figure size 432x288 with 1 Axes>"
            ],
            "image/png": "[encoded data removed]"
          },
          "metadata": {
            "needs_background": "light"
          }
        }
      ]
    }
  ]
}